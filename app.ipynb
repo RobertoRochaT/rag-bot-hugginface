{
 "cells": [
  {
   "cell_type": "markdown",
   "metadata": {},
   "source": [
    "## Set Up\n",
    "\n",
    "this is using python 3.13 "
   ]
  },
  {
   "cell_type": "code",
   "execution_count": 33,
   "metadata": {},
   "outputs": [
    {
     "name": "stderr",
     "output_type": "stream",
     "text": [
      "huggingface/tokenizers: The current process just got forked, after parallelism has already been used. Disabling parallelism to avoid deadlocks...\n",
      "To disable this warning, you can either:\n",
      "\t- Avoid using `tokenizers` before the fork if possible\n",
      "\t- Explicitly set the environment variable TOKENIZERS_PARALLELISM=(true | false)\n"
     ]
    },
    {
     "name": "stdout",
     "output_type": "stream",
     "text": [
      "\n",
      "\u001b[1m[\u001b[0m\u001b[34;49mnotice\u001b[0m\u001b[1;39;49m]\u001b[0m\u001b[39;49m A new release of pip is available: \u001b[0m\u001b[31;49m23.2.1\u001b[0m\u001b[39;49m -> \u001b[0m\u001b[32;49m25.0.1\u001b[0m\n",
      "\u001b[1m[\u001b[0m\u001b[34;49mnotice\u001b[0m\u001b[1;39;49m]\u001b[0m\u001b[39;49m To update, run: \u001b[0m\u001b[32;49mpip install --upgrade pip\u001b[0m\n",
      "Note: you may need to restart the kernel to use updated packages.\n"
     ]
    },
    {
     "name": "stderr",
     "output_type": "stream",
     "text": [
      "huggingface/tokenizers: The current process just got forked, after parallelism has already been used. Disabling parallelism to avoid deadlocks...\n",
      "To disable this warning, you can either:\n",
      "\t- Avoid using `tokenizers` before the fork if possible\n",
      "\t- Explicitly set the environment variable TOKENIZERS_PARALLELISM=(true | false)\n"
     ]
    },
    {
     "name": "stdout",
     "output_type": "stream",
     "text": [
      "\n",
      "\u001b[1m[\u001b[0m\u001b[34;49mnotice\u001b[0m\u001b[1;39;49m]\u001b[0m\u001b[39;49m A new release of pip is available: \u001b[0m\u001b[31;49m23.2.1\u001b[0m\u001b[39;49m -> \u001b[0m\u001b[32;49m25.0.1\u001b[0m\n",
      "\u001b[1m[\u001b[0m\u001b[34;49mnotice\u001b[0m\u001b[1;39;49m]\u001b[0m\u001b[39;49m To update, run: \u001b[0m\u001b[32;49mpip install --upgrade pip\u001b[0m\n",
      "Note: you may need to restart the kernel to use updated packages.\n"
     ]
    },
    {
     "name": "stderr",
     "output_type": "stream",
     "text": [
      "huggingface/tokenizers: The current process just got forked, after parallelism has already been used. Disabling parallelism to avoid deadlocks...\n",
      "To disable this warning, you can either:\n",
      "\t- Avoid using `tokenizers` before the fork if possible\n",
      "\t- Explicitly set the environment variable TOKENIZERS_PARALLELISM=(true | false)\n"
     ]
    },
    {
     "name": "stdout",
     "output_type": "stream",
     "text": [
      "\n",
      "\u001b[1m[\u001b[0m\u001b[34;49mnotice\u001b[0m\u001b[1;39;49m]\u001b[0m\u001b[39;49m A new release of pip is available: \u001b[0m\u001b[31;49m23.2.1\u001b[0m\u001b[39;49m -> \u001b[0m\u001b[32;49m25.0.1\u001b[0m\n",
      "\u001b[1m[\u001b[0m\u001b[34;49mnotice\u001b[0m\u001b[1;39;49m]\u001b[0m\u001b[39;49m To update, run: \u001b[0m\u001b[32;49mpip install --upgrade pip\u001b[0m\n",
      "Note: you may need to restart the kernel to use updated packages.\n"
     ]
    },
    {
     "name": "stderr",
     "output_type": "stream",
     "text": [
      "huggingface/tokenizers: The current process just got forked, after parallelism has already been used. Disabling parallelism to avoid deadlocks...\n",
      "To disable this warning, you can either:\n",
      "\t- Avoid using `tokenizers` before the fork if possible\n",
      "\t- Explicitly set the environment variable TOKENIZERS_PARALLELISM=(true | false)\n"
     ]
    },
    {
     "name": "stdout",
     "output_type": "stream",
     "text": [
      "\n",
      "\u001b[1m[\u001b[0m\u001b[34;49mnotice\u001b[0m\u001b[1;39;49m]\u001b[0m\u001b[39;49m A new release of pip is available: \u001b[0m\u001b[31;49m23.2.1\u001b[0m\u001b[39;49m -> \u001b[0m\u001b[32;49m25.0.1\u001b[0m\n",
      "\u001b[1m[\u001b[0m\u001b[34;49mnotice\u001b[0m\u001b[1;39;49m]\u001b[0m\u001b[39;49m To update, run: \u001b[0m\u001b[32;49mpip install --upgrade pip\u001b[0m\n",
      "Note: you may need to restart the kernel to use updated packages.\n"
     ]
    }
   ],
   "source": [
    "%pip install -Uq \"unstructured[all-docs]\" pillow lxml pillow\n",
    "%pip install -Uq chromadb tiktoken\n",
    "%pip install -Uq langchain langchain-community langchain-openai langchain-groq\n",
    "%pip install -Uq python_dotenv"
   ]
  },
  {
   "cell_type": "markdown",
   "metadata": {},
   "source": [
    "## Setting the enviroment variables"
   ]
  },
  {
   "cell_type": "code",
   "execution_count": null,
   "metadata": {},
   "outputs": [],
   "source": [
    "import os\n",
    "\n",
    "# keys for the services we will use\n",
    "\n",
    "# os.environ[\"OPENAI_API_KEY\"] = \"sk-...\"\n",
    "os.environ[\"GROQ_API_KEY\"] = \"sh....\"\n",
    "os.environ[\"LANGCHAIN_API_KEY\"] = \"sh...\"\n",
    "os.environ[\"LANGCHAIN_TRACING_V2\"] = \"true\"\n",
    "os.environ[\"HUGGINGFACEHUB_API_TOKEN\"] = \"sh...\""
   ]
  },
  {
   "cell_type": "markdown",
   "metadata": {},
   "source": [
    "## Extract the data\n",
    "\n",
    "Extract the elements of the PDF that we will be able to use in the retrieval process. These elements can be: Text, Images, Tables, etc."
   ]
  },
  {
   "cell_type": "markdown",
   "metadata": {},
   "source": [
    "### Partition PDF tables, text, and images"
   ]
  },
  {
   "cell_type": "code",
   "execution_count": 35,
   "metadata": {},
   "outputs": [
    {
     "name": "stderr",
     "output_type": "stream",
     "text": [
      "huggingface/tokenizers: The current process just got forked, after parallelism has already been used. Disabling parallelism to avoid deadlocks...\n",
      "To disable this warning, you can either:\n",
      "\t- Avoid using `tokenizers` before the fork if possible\n",
      "\t- Explicitly set the environment variable TOKENIZERS_PARALLELISM=(true | false)\n",
      "huggingface/tokenizers: The current process just got forked, after parallelism has already been used. Disabling parallelism to avoid deadlocks...\n",
      "To disable this warning, you can either:\n",
      "\t- Avoid using `tokenizers` before the fork if possible\n",
      "\t- Explicitly set the environment variable TOKENIZERS_PARALLELISM=(true | false)\n",
      "huggingface/tokenizers: The current process just got forked, after parallelism has already been used. Disabling parallelism to avoid deadlocks...\n",
      "To disable this warning, you can either:\n",
      "\t- Avoid using `tokenizers` before the fork if possible\n",
      "\t- Explicitly set the environment variable TOKENIZERS_PARALLELISM=(true | false)\n",
      "huggingface/tokenizers: The current process just got forked, after parallelism has already been used. Disabling parallelism to avoid deadlocks...\n",
      "To disable this warning, you can either:\n",
      "\t- Avoid using `tokenizers` before the fork if possible\n",
      "\t- Explicitly set the environment variable TOKENIZERS_PARALLELISM=(true | false)\n",
      "huggingface/tokenizers: The current process just got forked, after parallelism has already been used. Disabling parallelism to avoid deadlocks...\n",
      "To disable this warning, you can either:\n",
      "\t- Avoid using `tokenizers` before the fork if possible\n",
      "\t- Explicitly set the environment variable TOKENIZERS_PARALLELISM=(true | false)\n",
      "huggingface/tokenizers: The current process just got forked, after parallelism has already been used. Disabling parallelism to avoid deadlocks...\n",
      "To disable this warning, you can either:\n",
      "\t- Avoid using `tokenizers` before the fork if possible\n",
      "\t- Explicitly set the environment variable TOKENIZERS_PARALLELISM=(true | false)\n",
      "huggingface/tokenizers: The current process just got forked, after parallelism has already been used. Disabling parallelism to avoid deadlocks...\n",
      "To disable this warning, you can either:\n",
      "\t- Avoid using `tokenizers` before the fork if possible\n",
      "\t- Explicitly set the environment variable TOKENIZERS_PARALLELISM=(true | false)\n",
      "huggingface/tokenizers: The current process just got forked, after parallelism has already been used. Disabling parallelism to avoid deadlocks...\n",
      "To disable this warning, you can either:\n",
      "\t- Avoid using `tokenizers` before the fork if possible\n",
      "\t- Explicitly set the environment variable TOKENIZERS_PARALLELISM=(true | false)\n",
      "huggingface/tokenizers: The current process just got forked, after parallelism has already been used. Disabling parallelism to avoid deadlocks...\n",
      "To disable this warning, you can either:\n",
      "\t- Avoid using `tokenizers` before the fork if possible\n",
      "\t- Explicitly set the environment variable TOKENIZERS_PARALLELISM=(true | false)\n",
      "huggingface/tokenizers: The current process just got forked, after parallelism has already been used. Disabling parallelism to avoid deadlocks...\n",
      "To disable this warning, you can either:\n",
      "\t- Avoid using `tokenizers` before the fork if possible\n",
      "\t- Explicitly set the environment variable TOKENIZERS_PARALLELISM=(true | false)\n",
      "huggingface/tokenizers: The current process just got forked, after parallelism has already been used. Disabling parallelism to avoid deadlocks...\n",
      "To disable this warning, you can either:\n",
      "\t- Avoid using `tokenizers` before the fork if possible\n",
      "\t- Explicitly set the environment variable TOKENIZERS_PARALLELISM=(true | false)\n",
      "huggingface/tokenizers: The current process just got forked, after parallelism has already been used. Disabling parallelism to avoid deadlocks...\n",
      "To disable this warning, you can either:\n",
      "\t- Avoid using `tokenizers` before the fork if possible\n",
      "\t- Explicitly set the environment variable TOKENIZERS_PARALLELISM=(true | false)\n"
     ]
    }
   ],
   "source": [
    "from unstructured.partition.pdf import partition_pdf\n",
    "\n",
    "output_path = \"./docs/\"\n",
    "file_path = output_path + 'Respuestas_basicas.pdf' ## output_path + 'attention.pdf'  \n",
    "\n",
    "# Reference: https://docs.unstructured.io/open-source/core-functionality/chunking\n",
    "chunks = partition_pdf(\n",
    "    filename=file_path,\n",
    "    infer_table_structure=True,            # extract tables\n",
    "    strategy=\"hi_res\",                     # mandatory to infer tables\n",
    "\n",
    "    extract_image_block_types=[\"Image\"],   # Add 'Table' to list to extract image of tables\n",
    "    # image_output_dir_path=output_path,   # if None, images and tables will saved in base64\n",
    "\n",
    "    extract_image_block_to_payload=True,   # if true, will extract base64 for API usage\n",
    "\n",
    "    chunking_strategy=\"by_title\",          # or 'basic'\n",
    "    max_characters=10000,                  # defaults to 500\n",
    "    combine_text_under_n_chars=2000,       # defaults to 0\n",
    "    new_after_n_chars=6000,\n",
    "\n",
    "    # extract_images_in_pdf=True,          # deprecated\n",
    ")"
   ]
  },
  {
   "cell_type": "markdown",
   "metadata": {},
   "source": [
    "##  We get 2 types of elements from the partition_pdf function"
   ]
  },
  {
   "cell_type": "code",
   "execution_count": 36,
   "metadata": {},
   "outputs": [
    {
     "data": {
      "text/plain": [
       "{\"<class 'unstructured.documents.elements.CompositeElement'>\"}"
      ]
     },
     "execution_count": 36,
     "metadata": {},
     "output_type": "execute_result"
    }
   ],
   "source": [
    "# in this case beacuse the pdf does not have images we only get 1 type of element wich is text\n",
    "\n",
    "set([str(type(el)) for el in chunks])"
   ]
  },
  {
   "cell_type": "code",
   "execution_count": 45,
   "metadata": {},
   "outputs": [
    {
     "data": {
      "text/plain": [
       "[<unstructured.documents.elements.Title at 0x17fadf230>,\n",
       " <unstructured.documents.elements.Title at 0x17fade430>,\n",
       " <unstructured.documents.elements.Title at 0x17fade3c0>,\n",
       " <unstructured.documents.elements.ListItem at 0x17fade4a0>,\n",
       " <unstructured.documents.elements.ListItem at 0x17fade510>,\n",
       " <unstructured.documents.elements.Title at 0x17fade580>,\n",
       " <unstructured.documents.elements.ListItem at 0x17fade5f0>,\n",
       " <unstructured.documents.elements.ListItem at 0x17fade660>,\n",
       " <unstructured.documents.elements.ListItem at 0x17fade6d0>,\n",
       " <unstructured.documents.elements.ListItem at 0x17fade740>,\n",
       " <unstructured.documents.elements.ListItem at 0x17fade7b0>,\n",
       " <unstructured.documents.elements.ListItem at 0x17fade820>,\n",
       " <unstructured.documents.elements.Title at 0x17fade890>,\n",
       " <unstructured.documents.elements.ListItem at 0x17fade900>,\n",
       " <unstructured.documents.elements.ListItem at 0x17fade970>,\n",
       " <unstructured.documents.elements.ListItem at 0x17fadd470>,\n",
       " <unstructured.documents.elements.ListItem at 0x17fadde80>,\n",
       " <unstructured.documents.elements.ListItem at 0x17fadd860>,\n",
       " <unstructured.documents.elements.Title at 0x17faddf60>,\n",
       " <unstructured.documents.elements.ListItem at 0x17faddfd0>,\n",
       " <unstructured.documents.elements.ListItem at 0x17fade040>,\n",
       " <unstructured.documents.elements.ListItem at 0x17fadd5c0>,\n",
       " <unstructured.documents.elements.ListItem at 0x17fade120>,\n",
       " <unstructured.documents.elements.Title at 0x17fade0b0>,\n",
       " <unstructured.documents.elements.ListItem at 0x17fade190>,\n",
       " <unstructured.documents.elements.ListItem at 0x17faddef0>,\n",
       " <unstructured.documents.elements.ListItem at 0x17fade200>,\n",
       " <unstructured.documents.elements.Title at 0x17fade270>,\n",
       " <unstructured.documents.elements.ListItem at 0x17fade2e0>,\n",
       " <unstructured.documents.elements.ListItem at 0x17fade350>,\n",
       " <unstructured.documents.elements.ListItem at 0x17ac0cbb0>,\n",
       " <unstructured.documents.elements.ListItem at 0x17ac0cc20>,\n",
       " <unstructured.documents.elements.ListItem at 0x17ac0cc90>,\n",
       " <unstructured.documents.elements.Title at 0x17ac0cad0>,\n",
       " <unstructured.documents.elements.ListItem at 0x17ac0cb40>,\n",
       " <unstructured.documents.elements.ListItem at 0x17ac0ce50>,\n",
       " <unstructured.documents.elements.ListItem at 0x17ac0cec0>,\n",
       " <unstructured.documents.elements.ListItem at 0x17ac0cf30>,\n",
       " <unstructured.documents.elements.Title at 0x17ac0cfa0>,\n",
       " <unstructured.documents.elements.ListItem at 0x17ac0d010>,\n",
       " <unstructured.documents.elements.ListItem at 0x17ac0d080>,\n",
       " <unstructured.documents.elements.ListItem at 0x17ac0d0f0>,\n",
       " <unstructured.documents.elements.Title at 0x17ac0d160>,\n",
       " <unstructured.documents.elements.ListItem at 0x17ac0d1d0>,\n",
       " <unstructured.documents.elements.ListItem at 0x17ac0d240>,\n",
       " <unstructured.documents.elements.ListItem at 0x17ac0d2b0>,\n",
       " <unstructured.documents.elements.Title at 0x17ac0d320>,\n",
       " <unstructured.documents.elements.ListItem at 0x17ac0d390>,\n",
       " <unstructured.documents.elements.Title at 0x17ac0d400>,\n",
       " <unstructured.documents.elements.ListItem at 0x17ac0d470>,\n",
       " <unstructured.documents.elements.ListItem at 0x17ac0d4e0>,\n",
       " <unstructured.documents.elements.ListItem at 0x17ac0d550>]"
      ]
     },
     "execution_count": 45,
     "metadata": {},
     "output_type": "execute_result"
    }
   ],
   "source": [
    "# Each CompositeElement containes a bunch of related elements.\n",
    "# This makes it easy to use these elements together in a RAG pipeline.\n",
    "\n",
    "chunks[0].metadata.orig_elements"
   ]
  },
  {
   "cell_type": "code",
   "execution_count": null,
   "metadata": {},
   "outputs": [],
   "source": [
    "# This is what an extracted image looks like.\n",
    "# It contains the base64 representation only because we set the param extract_image_block_to_payload=True\n",
    "\n",
    "\n",
    "# In this case we are not going to use this beacuse the pdf does not have images\n",
    "\n",
    "elements = chunks[3].metadata.orig_elements\n",
    "chunk_images = [el for el in elements if 'Image' in str(type(el))]\n",
    "chunk_images[0].to_dict()"
   ]
  },
  {
   "cell_type": "markdown",
   "metadata": {},
   "source": [
    "### Separate extracted elements into tables, text, and images"
   ]
  },
  {
   "cell_type": "code",
   "execution_count": null,
   "metadata": {},
   "outputs": [
    {
     "data": {
      "text/plain": [
       "[<unstructured.documents.elements.CompositeElement at 0x17fa95590>,\n",
       " <unstructured.documents.elements.CompositeElement at 0x17ab12b10>]"
      ]
     },
     "execution_count": 46,
     "metadata": {},
     "output_type": "execute_result"
    }
   ],
   "source": [
    "# separate tables from texts\n",
    "tables = []\n",
    "texts = []\n",
    "\n",
    "for chunk in chunks:\n",
    "    if \"Table\" in str(type(chunk)):\n",
    "        tables.append(chunk)\n",
    "\n",
    "    if \"CompositeElement\" in str(type((chunk))):\n",
    "        texts.append(chunk)\n"
   ]
  },
  {
   "cell_type": "code",
   "execution_count": null,
   "metadata": {},
   "outputs": [],
   "source": [
    "# Get the images from the CompositeElement objects\n",
    "def get_images_base64(chunks):\n",
    "    images_b64 = []\n",
    "    for chunk in chunks:\n",
    "        if \"CompositeElement\" in str(type(chunk)):\n",
    "            chunk_els = chunk.metadata.orig_elements\n",
    "            for el in chunk_els:\n",
    "                if \"Image\" in str(type(el)):\n",
    "                    images_b64.append(el.metadata.image_base64)\n",
    "    return images_b64\n",
    "\n",
    "images = get_images_base64(chunks)"
   ]
  },
  {
   "cell_type": "markdown",
   "metadata": {},
   "source": [
    "## Check what the image looks like"
   ]
  },
  {
   "cell_type": "code",
   "execution_count": null,
   "metadata": {},
   "outputs": [],
   "source": [
    "import base64\n",
    "from IPython.display import Image, display\n",
    "\n",
    "def display_base64_image(base64_code):\n",
    "    # Decode the base64 string to binary\n",
    "    image_data = base64.b64decode(base64_code)\n",
    "    # Display the image\n",
    "    display(Image(data=image_data))\n",
    "\n",
    "display_base64_image(images[0])"
   ]
  },
  {
   "cell_type": "markdown",
   "metadata": {},
   "source": [
    "## Summarize the data\n",
    "\n",
    "Create a summary of each element extracted from the PDF. This summary will be vectorized and used in the retrieval process."
   ]
  },
  {
   "cell_type": "markdown",
   "metadata": {},
   "source": [
    "### Text and Table summaries\n",
    "\n",
    "We don't need a multimodal model to generate the summaries of the tables and the text. I will use open source models available on Groq."
   ]
  },
  {
   "cell_type": "code",
   "execution_count": 14,
   "metadata": {},
   "outputs": [
    {
     "name": "stdout",
     "output_type": "stream",
     "text": [
      "\n",
      "\u001b[1m[\u001b[0m\u001b[34;49mnotice\u001b[0m\u001b[1;39;49m]\u001b[0m\u001b[39;49m A new release of pip is available: \u001b[0m\u001b[31;49m23.2.1\u001b[0m\u001b[39;49m -> \u001b[0m\u001b[32;49m25.0.1\u001b[0m\n",
      "\u001b[1m[\u001b[0m\u001b[34;49mnotice\u001b[0m\u001b[1;39;49m]\u001b[0m\u001b[39;49m To update, run: \u001b[0m\u001b[32;49mpip install --upgrade pip\u001b[0m\n",
      "Note: you may need to restart the kernel to use updated packages.\n"
     ]
    }
   ],
   "source": [
    "%pip install -Uq langchain-groq"
   ]
  },
  {
   "cell_type": "code",
   "execution_count": 47,
   "metadata": {},
   "outputs": [],
   "source": [
    "from langchain_groq import ChatGroq\n",
    "from langchain_core.prompts import ChatPromptTemplate\n",
    "from langchain_core.output_parsers import StrOutputParser"
   ]
  },
  {
   "cell_type": "code",
   "execution_count": 48,
   "metadata": {},
   "outputs": [],
   "source": [
    "# Prompt\n",
    "prompt_text = \"\"\"\n",
    "You are an assistant tasked with summarizing tables and text.\n",
    "Give a concise summary of the table or text.\n",
    "\n",
    "Respond only with the summary, no additionnal comment.\n",
    "Do not start your message by saying \"Here is a summary\" or anything like that.\n",
    "Just give the summary as it is.\n",
    "\n",
    "Table or text chunk: {element}\n",
    "\n",
    "\"\"\"\n",
    "prompt = ChatPromptTemplate.from_template(prompt_text)\n",
    "\n",
    "# Summary chain\n",
    "model = ChatGroq(temperature=0.5, model=\"llama-3.1-8b-instant\")\n",
    "summarize_chain = {\"element\": lambda x: x} | prompt | model | StrOutputParser()"
   ]
  },
  {
   "cell_type": "code",
   "execution_count": null,
   "metadata": {},
   "outputs": [
    {
     "data": {
      "text/plain": [
       "[]"
      ]
     },
     "execution_count": 52,
     "metadata": {},
     "output_type": "execute_result"
    }
   ],
   "source": [
    "# Summarize text\n",
    "text_summaries = summarize_chain.batch(texts, {\"max_concurrency\": 3})\n",
    "\n",
    "# Summarize tables\n",
    "tables_html = [table.metadata.text_as_html for table in tables]\n",
    "table_summaries = summarize_chain.batch(tables_html, {\"max_concurrency\": 3})\n"
   ]
  },
  {
   "cell_type": "code",
   "execution_count": 53,
   "metadata": {},
   "outputs": [
    {
     "data": {
      "text/plain": [
       "['El Tecnológico ofrece varios trámites relacionados con certificados, constancias, credenciales, cambio de carrera, titulación, exámenes, inscripciones a licenciatura y posgrado, planes de estudio e información sobre estudios. Los trámites incluyen certificados de terminación, constancias con calificación, credenciales extemporeanas, cambio de carrera, donación de libro de titulación, exámenes especiales y examenes de admisión. Los precios varían según el trámite, desde $40.00 hasta $5,800.00.',\n",
       " 'The table outlines key information for students at ITLA Laguna, including enrollment periods, academic programs, course schedules, and campus services. It covers topics such as: enrollment periods for undergraduate and graduate programs, course and convocation schedules, language courses, extracurricular activities, credential replacement and issuance, and class schedules.']"
      ]
     },
     "execution_count": 53,
     "metadata": {},
     "output_type": "execute_result"
    }
   ],
   "source": [
    "text_summaries"
   ]
  },
  {
   "cell_type": "markdown",
   "metadata": {},
   "source": [
    "## Load data and summaries to vectorstore"
   ]
  },
  {
   "cell_type": "code",
   "execution_count": 54,
   "metadata": {},
   "outputs": [
    {
     "name": "stderr",
     "output_type": "stream",
     "text": [
      "huggingface/tokenizers: The current process just got forked, after parallelism has already been used. Disabling parallelism to avoid deadlocks...\n",
      "To disable this warning, you can either:\n",
      "\t- Avoid using `tokenizers` before the fork if possible\n",
      "\t- Explicitly set the environment variable TOKENIZERS_PARALLELISM=(true | false)\n"
     ]
    },
    {
     "name": "stdout",
     "output_type": "stream",
     "text": [
      "Requirement already satisfied: langchain-huggingface in /Users/carlosrobertorochatrejo/Developer/projects/.venv/lib/python3.13/site-packages (0.1.2)\n",
      "Requirement already satisfied: huggingface-hub>=0.23.0 in /Users/carlosrobertorochatrejo/Developer/projects/.venv/lib/python3.13/site-packages (from langchain-huggingface) (0.29.1)\n",
      "Requirement already satisfied: langchain-core<0.4.0,>=0.3.15 in /Users/carlosrobertorochatrejo/Developer/projects/.venv/lib/python3.13/site-packages (from langchain-huggingface) (0.3.41)\n",
      "Requirement already satisfied: sentence-transformers>=2.6.0 in /Users/carlosrobertorochatrejo/Developer/projects/.venv/lib/python3.13/site-packages (from langchain-huggingface) (3.4.1)\n",
      "Requirement already satisfied: tokenizers>=0.19.1 in /Users/carlosrobertorochatrejo/Developer/projects/.venv/lib/python3.13/site-packages (from langchain-huggingface) (0.21.0)\n",
      "Requirement already satisfied: transformers>=4.39.0 in /Users/carlosrobertorochatrejo/Developer/projects/.venv/lib/python3.13/site-packages (from langchain-huggingface) (4.49.0)\n",
      "Requirement already satisfied: filelock in /Users/carlosrobertorochatrejo/Developer/projects/.venv/lib/python3.13/site-packages (from huggingface-hub>=0.23.0->langchain-huggingface) (3.17.0)\n",
      "Requirement already satisfied: fsspec>=2023.5.0 in /Users/carlosrobertorochatrejo/Developer/projects/.venv/lib/python3.13/site-packages (from huggingface-hub>=0.23.0->langchain-huggingface) (2025.2.0)\n",
      "Requirement already satisfied: packaging>=20.9 in /Users/carlosrobertorochatrejo/Developer/projects/.venv/lib/python3.13/site-packages (from huggingface-hub>=0.23.0->langchain-huggingface) (24.2)\n",
      "Requirement already satisfied: pyyaml>=5.1 in /Users/carlosrobertorochatrejo/Developer/projects/.venv/lib/python3.13/site-packages (from huggingface-hub>=0.23.0->langchain-huggingface) (6.0.2)\n",
      "Requirement already satisfied: requests in /Users/carlosrobertorochatrejo/Developer/projects/.venv/lib/python3.13/site-packages (from huggingface-hub>=0.23.0->langchain-huggingface) (2.32.3)\n",
      "Requirement already satisfied: tqdm>=4.42.1 in /Users/carlosrobertorochatrejo/Developer/projects/.venv/lib/python3.13/site-packages (from huggingface-hub>=0.23.0->langchain-huggingface) (4.67.1)\n",
      "Requirement already satisfied: typing-extensions>=3.7.4.3 in /Users/carlosrobertorochatrejo/Developer/projects/.venv/lib/python3.13/site-packages (from huggingface-hub>=0.23.0->langchain-huggingface) (4.12.2)\n",
      "Requirement already satisfied: langsmith<0.4,>=0.1.125 in /Users/carlosrobertorochatrejo/Developer/projects/.venv/lib/python3.13/site-packages (from langchain-core<0.4.0,>=0.3.15->langchain-huggingface) (0.3.11)\n",
      "Requirement already satisfied: tenacity!=8.4.0,<10.0.0,>=8.1.0 in /Users/carlosrobertorochatrejo/Developer/projects/.venv/lib/python3.13/site-packages (from langchain-core<0.4.0,>=0.3.15->langchain-huggingface) (9.0.0)\n",
      "Requirement already satisfied: jsonpatch<2.0,>=1.33 in /Users/carlosrobertorochatrejo/Developer/projects/.venv/lib/python3.13/site-packages (from langchain-core<0.4.0,>=0.3.15->langchain-huggingface) (1.33)\n",
      "Requirement already satisfied: pydantic<3.0.0,>=2.7.4 in /Users/carlosrobertorochatrejo/Developer/projects/.venv/lib/python3.13/site-packages (from langchain-core<0.4.0,>=0.3.15->langchain-huggingface) (2.10.6)\n",
      "Requirement already satisfied: torch>=1.11.0 in /Users/carlosrobertorochatrejo/Developer/projects/.venv/lib/python3.13/site-packages (from sentence-transformers>=2.6.0->langchain-huggingface) (2.6.0)\n",
      "Requirement already satisfied: scikit-learn in /Users/carlosrobertorochatrejo/Developer/projects/.venv/lib/python3.13/site-packages (from sentence-transformers>=2.6.0->langchain-huggingface) (1.6.1)\n",
      "Requirement already satisfied: scipy in /Users/carlosrobertorochatrejo/Developer/projects/.venv/lib/python3.13/site-packages (from sentence-transformers>=2.6.0->langchain-huggingface) (1.15.2)\n",
      "Requirement already satisfied: Pillow in /Users/carlosrobertorochatrejo/Developer/projects/.venv/lib/python3.13/site-packages (from sentence-transformers>=2.6.0->langchain-huggingface) (11.1.0)\n",
      "Requirement already satisfied: numpy>=1.17 in /Users/carlosrobertorochatrejo/Developer/projects/.venv/lib/python3.13/site-packages (from transformers>=4.39.0->langchain-huggingface) (1.26.4)\n",
      "Requirement already satisfied: regex!=2019.12.17 in /Users/carlosrobertorochatrejo/Developer/projects/.venv/lib/python3.13/site-packages (from transformers>=4.39.0->langchain-huggingface) (2024.11.6)\n",
      "Requirement already satisfied: safetensors>=0.4.1 in /Users/carlosrobertorochatrejo/Developer/projects/.venv/lib/python3.13/site-packages (from transformers>=4.39.0->langchain-huggingface) (0.5.2)\n",
      "Requirement already satisfied: jsonpointer>=1.9 in /Users/carlosrobertorochatrejo/Developer/projects/.venv/lib/python3.13/site-packages (from jsonpatch<2.0,>=1.33->langchain-core<0.4.0,>=0.3.15->langchain-huggingface) (3.0.0)\n",
      "Requirement already satisfied: httpx<1,>=0.23.0 in /Users/carlosrobertorochatrejo/Developer/projects/.venv/lib/python3.13/site-packages (from langsmith<0.4,>=0.1.125->langchain-core<0.4.0,>=0.3.15->langchain-huggingface) (0.28.1)\n",
      "Requirement already satisfied: orjson<4.0.0,>=3.9.14 in /Users/carlosrobertorochatrejo/Developer/projects/.venv/lib/python3.13/site-packages (from langsmith<0.4,>=0.1.125->langchain-core<0.4.0,>=0.3.15->langchain-huggingface) (3.10.15)\n",
      "Requirement already satisfied: requests-toolbelt<2.0.0,>=1.0.0 in /Users/carlosrobertorochatrejo/Developer/projects/.venv/lib/python3.13/site-packages (from langsmith<0.4,>=0.1.125->langchain-core<0.4.0,>=0.3.15->langchain-huggingface) (1.0.0)\n",
      "Requirement already satisfied: zstandard<0.24.0,>=0.23.0 in /Users/carlosrobertorochatrejo/Developer/projects/.venv/lib/python3.13/site-packages (from langsmith<0.4,>=0.1.125->langchain-core<0.4.0,>=0.3.15->langchain-huggingface) (0.23.0)\n",
      "Requirement already satisfied: annotated-types>=0.6.0 in /Users/carlosrobertorochatrejo/Developer/projects/.venv/lib/python3.13/site-packages (from pydantic<3.0.0,>=2.7.4->langchain-core<0.4.0,>=0.3.15->langchain-huggingface) (0.7.0)\n",
      "Requirement already satisfied: pydantic-core==2.27.2 in /Users/carlosrobertorochatrejo/Developer/projects/.venv/lib/python3.13/site-packages (from pydantic<3.0.0,>=2.7.4->langchain-core<0.4.0,>=0.3.15->langchain-huggingface) (2.27.2)\n",
      "Requirement already satisfied: charset-normalizer<4,>=2 in /Users/carlosrobertorochatrejo/Developer/projects/.venv/lib/python3.13/site-packages (from requests->huggingface-hub>=0.23.0->langchain-huggingface) (3.4.1)\n",
      "Requirement already satisfied: idna<4,>=2.5 in /Users/carlosrobertorochatrejo/Developer/projects/.venv/lib/python3.13/site-packages (from requests->huggingface-hub>=0.23.0->langchain-huggingface) (3.10)\n",
      "Requirement already satisfied: urllib3<3,>=1.21.1 in /Users/carlosrobertorochatrejo/Developer/projects/.venv/lib/python3.13/site-packages (from requests->huggingface-hub>=0.23.0->langchain-huggingface) (2.3.0)\n",
      "Requirement already satisfied: certifi>=2017.4.17 in /Users/carlosrobertorochatrejo/Developer/projects/.venv/lib/python3.13/site-packages (from requests->huggingface-hub>=0.23.0->langchain-huggingface) (2025.1.31)\n",
      "Requirement already satisfied: networkx in /Users/carlosrobertorochatrejo/Developer/projects/.venv/lib/python3.13/site-packages (from torch>=1.11.0->sentence-transformers>=2.6.0->langchain-huggingface) (3.4.2)\n",
      "Requirement already satisfied: jinja2 in /Users/carlosrobertorochatrejo/Developer/projects/.venv/lib/python3.13/site-packages (from torch>=1.11.0->sentence-transformers>=2.6.0->langchain-huggingface) (3.1.5)\n",
      "Requirement already satisfied: setuptools in /Users/carlosrobertorochatrejo/Developer/projects/.venv/lib/python3.13/site-packages (from torch>=1.11.0->sentence-transformers>=2.6.0->langchain-huggingface) (75.8.1)\n",
      "Requirement already satisfied: sympy==1.13.1 in /Users/carlosrobertorochatrejo/Developer/projects/.venv/lib/python3.13/site-packages (from torch>=1.11.0->sentence-transformers>=2.6.0->langchain-huggingface) (1.13.1)\n",
      "Requirement already satisfied: mpmath<1.4,>=1.1.0 in /Users/carlosrobertorochatrejo/Developer/projects/.venv/lib/python3.13/site-packages (from sympy==1.13.1->torch>=1.11.0->sentence-transformers>=2.6.0->langchain-huggingface) (1.3.0)\n",
      "Requirement already satisfied: joblib>=1.2.0 in /Users/carlosrobertorochatrejo/Developer/projects/.venv/lib/python3.13/site-packages (from scikit-learn->sentence-transformers>=2.6.0->langchain-huggingface) (1.4.2)\n",
      "Requirement already satisfied: threadpoolctl>=3.1.0 in /Users/carlosrobertorochatrejo/Developer/projects/.venv/lib/python3.13/site-packages (from scikit-learn->sentence-transformers>=2.6.0->langchain-huggingface) (3.5.0)\n",
      "Requirement already satisfied: anyio in /Users/carlosrobertorochatrejo/Developer/projects/.venv/lib/python3.13/site-packages (from httpx<1,>=0.23.0->langsmith<0.4,>=0.1.125->langchain-core<0.4.0,>=0.3.15->langchain-huggingface) (4.8.0)\n",
      "Requirement already satisfied: httpcore==1.* in /Users/carlosrobertorochatrejo/Developer/projects/.venv/lib/python3.13/site-packages (from httpx<1,>=0.23.0->langsmith<0.4,>=0.1.125->langchain-core<0.4.0,>=0.3.15->langchain-huggingface) (1.0.7)\n",
      "Requirement already satisfied: h11<0.15,>=0.13 in /Users/carlosrobertorochatrejo/Developer/projects/.venv/lib/python3.13/site-packages (from httpcore==1.*->httpx<1,>=0.23.0->langsmith<0.4,>=0.1.125->langchain-core<0.4.0,>=0.3.15->langchain-huggingface) (0.14.0)\n",
      "Requirement already satisfied: MarkupSafe>=2.0 in /Users/carlosrobertorochatrejo/Developer/projects/.venv/lib/python3.13/site-packages (from jinja2->torch>=1.11.0->sentence-transformers>=2.6.0->langchain-huggingface) (3.0.2)\n",
      "Requirement already satisfied: sniffio>=1.1 in /Users/carlosrobertorochatrejo/Developer/projects/.venv/lib/python3.13/site-packages (from anyio->httpx<1,>=0.23.0->langsmith<0.4,>=0.1.125->langchain-core<0.4.0,>=0.3.15->langchain-huggingface) (1.3.1)\n",
      "\n",
      "\u001b[1m[\u001b[0m\u001b[34;49mnotice\u001b[0m\u001b[1;39;49m]\u001b[0m\u001b[39;49m A new release of pip is available: \u001b[0m\u001b[31;49m23.2.1\u001b[0m\u001b[39;49m -> \u001b[0m\u001b[32;49m25.0.1\u001b[0m\n",
      "\u001b[1m[\u001b[0m\u001b[34;49mnotice\u001b[0m\u001b[1;39;49m]\u001b[0m\u001b[39;49m To update, run: \u001b[0m\u001b[32;49mpip install --upgrade pip\u001b[0m\n",
      "Note: you may need to restart the kernel to use updated packages.\n"
     ]
    }
   ],
   "source": [
    "%pip install langchain-huggingface"
   ]
  },
  {
   "cell_type": "code",
   "execution_count": 21,
   "metadata": {},
   "outputs": [
    {
     "name": "stdout",
     "output_type": "stream",
     "text": [
      "\u001b[31mERROR: Could not find a version that satisfies the requirement custom_st (from versions: none)\u001b[0m\u001b[31m\n",
      "\u001b[0m\u001b[31mERROR: No matching distribution found for custom_st\u001b[0m\u001b[31m\n",
      "\u001b[0m\n",
      "\u001b[1m[\u001b[0m\u001b[34;49mnotice\u001b[0m\u001b[1;39;49m]\u001b[0m\u001b[39;49m A new release of pip is available: \u001b[0m\u001b[31;49m23.2.1\u001b[0m\u001b[39;49m -> \u001b[0m\u001b[32;49m25.0.1\u001b[0m\n",
      "\u001b[1m[\u001b[0m\u001b[34;49mnotice\u001b[0m\u001b[1;39;49m]\u001b[0m\u001b[39;49m To update, run: \u001b[0m\u001b[32;49mpip install --upgrade pip\u001b[0m\n",
      "Note: you may need to restart the kernel to use updated packages.\n"
     ]
    }
   ],
   "source": [
    "%pip install custom_st"
   ]
  },
  {
   "cell_type": "markdown",
   "metadata": {},
   "source": [
    "### Create the vectorstore"
   ]
  },
  {
   "cell_type": "code",
   "execution_count": 55,
   "metadata": {},
   "outputs": [],
   "source": [
    "from langchain.vectorstores import Chroma\n",
    "from langchain.storage import InMemoryStore\n",
    "from langchain.retrievers.multi_vector import MultiVectorRetriever\n",
    "from langchain_huggingface.embeddings import HuggingFaceEmbeddings\n",
    "\n",
    "# The vectorstore to use to index the child chunks\n",
    "vectorstore = Chroma(\n",
    "    collection_name=\"multi_modal_rag\",\n",
    "    embedding_function=HuggingFaceEmbeddings(model_name=\"sentence-transformers/all-mpnet-base-v2\")\n",
    ")\n",
    "\n",
    "# The storage layer for the parent documents\n",
    "store = InMemoryStore()\n",
    "id_key = \"doc_id\"\n",
    "\n",
    "# The retriever (empty to start)\n",
    "retriever = MultiVectorRetriever(\n",
    "    vectorstore=vectorstore,\n",
    "    docstore=store,\n",
    "    id_key=id_key,\n",
    ")"
   ]
  },
  {
   "cell_type": "markdown",
   "metadata": {},
   "source": [
    "### Load the summaries and link the to the original data"
   ]
  },
  {
   "cell_type": "code",
   "execution_count": null,
   "metadata": {},
   "outputs": [],
   "source": [
    "%pip install langchain-community"
   ]
  },
  {
   "cell_type": "code",
   "execution_count": 57,
   "metadata": {},
   "outputs": [],
   "source": [
    "import uuid\n",
    "from langchain_core.documents import Document\n",
    "# Add texts\n",
    "doc_ids = [str(uuid.uuid4()) for _ in texts]\n",
    "summary_texts = [\n",
    "    Document(page_content=summary, metadata={id_key: doc_ids[i]}) for i, summary in enumerate(text_summaries)\n",
    "]\n",
    "retriever.vectorstore.add_documents(summary_texts)\n",
    "retriever.docstore.mset(list(zip(doc_ids, texts)))"
   ]
  },
  {
   "cell_type": "markdown",
   "metadata": {},
   "source": [
    "### Check retrieval"
   ]
  },
  {
   "cell_type": "code",
   "execution_count": 58,
   "metadata": {},
   "outputs": [
    {
     "name": "stderr",
     "output_type": "stream",
     "text": [
      "Number of requested results 4 is greater than number of elements in index 2, updating n_results = 2\n"
     ]
    }
   ],
   "source": [
    "# Retrieve\n",
    "docs = retriever.invoke(\n",
    "    \"Inscripcion\"\n",
    ")"
   ]
  },
  {
   "cell_type": "code",
   "execution_count": 59,
   "metadata": {},
   "outputs": [
    {
     "name": "stdout",
     "output_type": "stream",
     "text": [
      "Apartados y Respuestas sobre Trámites\n",
      "\n",
      "Certificados\n",
      "\n",
      "● Certificado de terminación y duplicados: $1,000.00\n",
      "\n",
      "● Certificado parcial: $750.00\n",
      "\n",
      "● Proceso: Se debe pagar en caja dentro de las instalaciones del Tecnológico y el recibo se lleva a servicios escolares los lunes, miércoles o viernes de 10 AM a 3 PM.\n",
      "\n",
      "Constancias\n",
      "\n",
      "● Constancia con calificación: $70.00\n",
      "\n",
      "● Constancia por semestre: $70.00\n",
      "\n",
      "● Constancia de estudios: $50.00\n",
      "\n",
      "● Cárdex: $70.00\n",
      "\n",
      "● Constancia de título: $70.00\n",
      "\n",
      "● Recuperación de contraseña: $70.00\n",
      "\n",
      "Credenciales\n",
      "\n",
      "● Trámites disponibles:\n",
      "\n",
      "○ Extemporáneo: $70.00\n",
      "\n",
      "○ Duplicado de credencial: $100.00\n",
      "\n",
      "○ Credencial de biblioteca: $40.00\n",
      "\n",
      "○ Resello extemporáneo: $70.00\n",
      "\n",
      "Cambio de Carrera\n",
      "\n",
      "● Revisión de equivalencia: $750.00\n",
      "\n",
      "● Convalidación: $500.00\n",
      "\n",
      "● Solicitud de cambio de carrera: $800.00\n",
      "\n",
      "● Más información: Puede contactar a su coordinador a través de estos correos.\n",
      "\n",
      "Titulación\n",
      "\n",
      "● Donación de libro de titulación: $1,200.00\n",
      "\n",
      "● Protocolo de titulación: $3,500.00\n",
      "\n",
      "● Certificación de título en caso de pérdida: $2,500.00\n",
      "\n",
      "Exámenes\n",
      "\n",
      "● Examen especial: $950.00\n",
      "\n",
      "● Examen de inglés: $400.00\n",
      "\n",
      "● Examen de admisión a licenciatura: $800.00\n",
      "\n",
      "● Examen de admisión a maestría: $850.00\n",
      "\n",
      "● Examen de admisión a doctorado: $850.00\n",
      "\n",
      "Inscripciones a Licenciatura\n",
      "\n",
      "Ingreso al semestre de nivelación (cero): $3,200.00\n",
      "\n",
      "Inscripción de nuevo ingreso: $4,200.00\n",
      "\n",
      "● Reingreso: $4,200.00\n",
      "\n",
      "Ingreso a distancia: $3,400.00\n",
      "\n",
      "Inscripciones a Posgrado\n",
      "\n",
      "● Nuevo ingreso/Reingreso a maestría: $4,900.00\n",
      "\n",
      "● Nuevo ingreso/Reingreso a doctorado: $5,800.00\n",
      "\n",
      "● Examen de grado: $4,000.00\n",
      "\n",
      "Planes de Estudio\n",
      "\n",
      "● Licenciatura a distancia: Disponible en el apartado de oferta educativa aquí\n",
      "\n",
      "● Nivel licenciatura: Disponible en el apartado de oferta educativa aquí\n",
      "\n",
      "● Nivel posgrado: Disponible en el apartado de oferta educativa aquí\n",
      "\n",
      "Información sobre Estudios\n",
      "\n",
      "● Consulta la oferta educativa en el menú superior de la web del Tecnológico.\n",
      "\n",
      "Ubicación\n",
      "\n",
      "● Nuestra ubicación es la siguiente: Ver en Google Maps\n",
      "\n",
      "● Dirección: Boulevard Revolución y Avenida Instituto Tecnológico de la Laguna, sin número.\n",
      "\n",
      "● Código Postal: 27000, Torreón, Coahuila.\n",
      "\n",
      "--------------------------------------------------------------------------------\n",
      "Ingreso a Licenciatura y Posgrado\n",
      "\n",
      "● Enero-Junio:\n",
      "\n",
      "Ingreso a licenciatura\n",
      "\n",
      "Ingreso a posgrado\n",
      "\n",
      "● Agosto-Diciembre:\n",
      "\n",
      "○ Nivelación\n",
      "\n",
      "Ingreso a licenciatura\n",
      "\n",
      "Ingreso a posgrado\n",
      "\n",
      "Ingreso a distancia: Más información\n",
      "\n",
      "Correos Electrónicos\n",
      "\n",
      "● Encuentre diversos correos de departamentos y coordinadores en este documento\n",
      "\n",
      "Cursos y Convocatorias\n",
      "\n",
      "● Calendario de cursos externos\n",
      "\n",
      "● Convocatorias\n",
      "\n",
      "Idiomas y Actividades Complementarias\n",
      "\n",
      "Idiomas disponibles\n",
      "\n",
      "● Actividades extraescolares\n",
      "\n",
      "Calendario de Actividades\n",
      "\n",
      "● Consulte el calendario del semestre actual aquí\n",
      "\n",
      "Credenciales\n",
      "\n",
      "● Resello de credencial: Se realiza en el edificio de Servicios Escolares, más información aquí\n",
      "\n",
      "● Reposición de credencial: Se lleva a cabo en el Centro de Cómputo, también es necesario enviar un correo a soporte@correo.itlalaguna.edu.mx\n",
      "\n",
      "● Nueva credencial: Se tramita enviando un correo a soporte@correo.itlalaguna.edu.mx\n",
      "\n",
      "Horario de Clases\n",
      "\n",
      "● Los horarios abarcan de 7 AM a 8 PM, cada estudiante crea su horario según la carga de materias y horarios disponibles.\n",
      "\n",
      "● Puede consultar un ejemplo de horarios de materias aquí\n",
      "\n",
      "--------------------------------------------------------------------------------\n"
     ]
    }
   ],
   "source": [
    "for doc in docs:\n",
    "    print(str(doc) + \"\\n\\n\" + \"-\" * 80)"
   ]
  },
  {
   "cell_type": "markdown",
   "metadata": {},
   "source": [
    "## RAG pipeline"
   ]
  },
  {
   "cell_type": "code",
   "execution_count": 26,
   "metadata": {},
   "outputs": [
    {
     "name": "stderr",
     "output_type": "stream",
     "text": [
      "huggingface/tokenizers: The current process just got forked, after parallelism has already been used. Disabling parallelism to avoid deadlocks...\n",
      "To disable this warning, you can either:\n",
      "\t- Avoid using `tokenizers` before the fork if possible\n",
      "\t- Explicitly set the environment variable TOKENIZERS_PARALLELISM=(true | false)\n"
     ]
    },
    {
     "name": "stdout",
     "output_type": "stream",
     "text": [
      "Requirement already satisfied: huggingface_hub in /Users/carlosrobertorochatrejo/Developer/projects/.venv/lib/python3.13/site-packages (0.29.1)\n",
      "Requirement already satisfied: filelock in /Users/carlosrobertorochatrejo/Developer/projects/.venv/lib/python3.13/site-packages (from huggingface_hub) (3.17.0)\n",
      "Requirement already satisfied: fsspec>=2023.5.0 in /Users/carlosrobertorochatrejo/Developer/projects/.venv/lib/python3.13/site-packages (from huggingface_hub) (2025.2.0)\n",
      "Requirement already satisfied: packaging>=20.9 in /Users/carlosrobertorochatrejo/Developer/projects/.venv/lib/python3.13/site-packages (from huggingface_hub) (24.2)\n",
      "Requirement already satisfied: pyyaml>=5.1 in /Users/carlosrobertorochatrejo/Developer/projects/.venv/lib/python3.13/site-packages (from huggingface_hub) (6.0.2)\n",
      "Requirement already satisfied: requests in /Users/carlosrobertorochatrejo/Developer/projects/.venv/lib/python3.13/site-packages (from huggingface_hub) (2.32.3)\n",
      "Requirement already satisfied: tqdm>=4.42.1 in /Users/carlosrobertorochatrejo/Developer/projects/.venv/lib/python3.13/site-packages (from huggingface_hub) (4.67.1)\n",
      "Requirement already satisfied: typing-extensions>=3.7.4.3 in /Users/carlosrobertorochatrejo/Developer/projects/.venv/lib/python3.13/site-packages (from huggingface_hub) (4.12.2)\n",
      "Requirement already satisfied: charset-normalizer<4,>=2 in /Users/carlosrobertorochatrejo/Developer/projects/.venv/lib/python3.13/site-packages (from requests->huggingface_hub) (3.4.1)\n",
      "Requirement already satisfied: idna<4,>=2.5 in /Users/carlosrobertorochatrejo/Developer/projects/.venv/lib/python3.13/site-packages (from requests->huggingface_hub) (3.10)\n",
      "Requirement already satisfied: urllib3<3,>=1.21.1 in /Users/carlosrobertorochatrejo/Developer/projects/.venv/lib/python3.13/site-packages (from requests->huggingface_hub) (2.3.0)\n",
      "Requirement already satisfied: certifi>=2017.4.17 in /Users/carlosrobertorochatrejo/Developer/projects/.venv/lib/python3.13/site-packages (from requests->huggingface_hub) (2025.1.31)\n",
      "\n",
      "\u001b[1m[\u001b[0m\u001b[34;49mnotice\u001b[0m\u001b[1;39;49m]\u001b[0m\u001b[39;49m A new release of pip is available: \u001b[0m\u001b[31;49m23.2.1\u001b[0m\u001b[39;49m -> \u001b[0m\u001b[32;49m25.0.1\u001b[0m\n",
      "\u001b[1m[\u001b[0m\u001b[34;49mnotice\u001b[0m\u001b[1;39;49m]\u001b[0m\u001b[39;49m To update, run: \u001b[0m\u001b[32;49mpip install --upgrade pip\u001b[0m\n",
      "Note: you may need to restart the kernel to use updated packages.\n"
     ]
    }
   ],
   "source": [
    "%pip install huggingface_hub"
   ]
  },
  {
   "cell_type": "code",
   "execution_count": 60,
   "metadata": {},
   "outputs": [],
   "source": [
    "from langchain_core.runnables import RunnablePassthrough, RunnableLambda\n",
    "from langchain_core.messages import HumanMessage\n",
    "from base64 import b64decode\n",
    "from langchain_community.llms import HuggingFaceHub\n",
    "from langchain_core.prompts import ChatPromptTemplate\n",
    "from langchain_core.output_parsers import StrOutputParser\n",
    "\n",
    "def parse_docs(docs):\n",
    "    \"\"\"Split base64-encoded images and texts\"\"\"\n",
    "    b64 = []\n",
    "    text = []\n",
    "    for doc in docs:\n",
    "        try:\n",
    "            b64decode(doc)\n",
    "            b64.append(doc)\n",
    "        except Exception:\n",
    "            text.append(doc)\n",
    "    return {\"images\": b64, \"texts\": text}\n",
    "\n",
    "def build_prompt(kwargs):\n",
    "    docs_by_type = kwargs[\"context\"]\n",
    "    user_question = kwargs[\"question\"]\n",
    "\n",
    "    context_text = \"\".join(text_element.text for text_element in docs_by_type[\"texts\"])\n",
    "\n",
    "    prompt_template = f\"\"\"\n",
    "    Answer the question based only on the following context, which can include text, tables, and images.\n",
    "    Context: {context_text}\n",
    "    Question: {user_question}\n",
    "    \"\"\"\n",
    "\n",
    "    prompt_content = [{\"type\": \"text\", \"text\": prompt_template}]\n",
    "\n",
    "    if len(docs_by_type[\"images\"]) > 0:\n",
    "        for image in docs_by_type[\"images\"]:\n",
    "            prompt_content.append(\n",
    "                {\n",
    "                    \"type\": \"image_url\",\n",
    "                    \"image_url\": {\"url\": f\"data:image/jpeg;base64,{image}\"},\n",
    "                }\n",
    "            )\n",
    "\n",
    "    return ChatPromptTemplate.from_messages(\n",
    "        [\n",
    "            HumanMessage(content=prompt_content),\n",
    "        ]\n",
    "    )\n",
    "\n",
    "# Configurar el modelo de Hugging Face\n",
    "llm = HuggingFaceHub(\n",
    "    repo_id=\"mistralai/Mistral-7B-Instruct-v0.2\",  # Puedes cambiar el modelo aquí\n",
    "    model_kwargs={\"temperature\": 0.5, \"max_length\": 512}\n",
    ")\n",
    "\n",
    "chain = (\n",
    "    {\n",
    "        \"context\": retriever | RunnableLambda(parse_docs),\n",
    "        \"question\": RunnablePassthrough(),\n",
    "    }\n",
    "    | RunnableLambda(build_prompt)\n",
    "    | llm\n",
    "    | StrOutputParser()\n",
    ")\n",
    "\n",
    "chain_with_sources = {\n",
    "    \"context\": retriever | RunnableLambda(parse_docs),\n",
    "    \"question\": RunnablePassthrough(),\n",
    "} | RunnablePassthrough().assign(\n",
    "    response=(\n",
    "        RunnableLambda(build_prompt)\n",
    "        | llm\n",
    "        | StrOutputParser()\n",
    "    )\n",
    ")\n"
   ]
  },
  {
   "cell_type": "markdown",
   "metadata": {},
   "source": []
  },
  {
   "cell_type": "code",
   "execution_count": 61,
   "metadata": {},
   "outputs": [
    {
     "name": "stderr",
     "output_type": "stream",
     "text": [
      "Number of requested results 4 is greater than number of elements in index 2, updating n_results = 2\n",
      "/Users/carlosrobertorochatrejo/Developer/projects/.venv/lib/python3.13/site-packages/huggingface_hub/utils/_deprecation.py:131: FutureWarning: 'post' (from 'huggingface_hub.inference._client') is deprecated and will be removed from version '0.31.0'. Making direct POST requests to the inference server is not supported anymore. Please use task methods instead (e.g. `InferenceClient.chat_completion`). If your use case is not supported, please open an issue in https://github.com/huggingface/huggingface_hub.\n",
      "  warnings.warn(warning_message, FutureWarning)\n"
     ]
    },
    {
     "name": "stdout",
     "output_type": "stream",
     "text": [
      "Human: [{'type': 'text', 'text': '\\n    Answer the question based only on the following context, which can include text, tables, and images.\\n    Context: Apartados y Respuestas sobre Trámites\\n\\nCertificados\\n\\n● Certificado de terminación y duplicados: $1,000.00\\n\\n● Certificado parcial: $750.00\\n\\n● Proceso: Se debe pagar en caja dentro de las instalaciones del Tecnológico y el recibo se lleva a servicios escolares los lunes, miércoles o viernes de 10 AM a 3 PM.\\n\\nConstancias\\n\\n● Constancia con calificación: $70.00\\n\\n● Constancia por semestre: $70.00\\n\\n● Constancia de estudios: $50.00\\n\\n● Cárdex: $70.00\\n\\n● Constancia de título: $70.00\\n\\n● Recuperación de contraseña: $70.00\\n\\nCredenciales\\n\\n● Trámites disponibles:\\n\\n○ Extemporáneo: $70.00\\n\\n○ Duplicado de credencial: $100.00\\n\\n○ Credencial de biblioteca: $40.00\\n\\n○ Resello extemporáneo: $70.00\\n\\nCambio de Carrera\\n\\n● Revisión de equivalencia: $750.00\\n\\n● Convalidación: $500.00\\n\\n● Solicitud de cambio de carrera: $800.00\\n\\n● Más información: Puede contactar a su coordinador a través de estos correos.\\n\\nTitulación\\n\\n● Donación de libro de titulación: $1,200.00\\n\\n● Protocolo de titulación: $3,500.00\\n\\n● Certificación de título en caso de pérdida: $2,500.00\\n\\nExámenes\\n\\n● Examen especial: $950.00\\n\\n● Examen de inglés: $400.00\\n\\n● Examen de admisión a licenciatura: $800.00\\n\\n● Examen de admisión a maestría: $850.00\\n\\n● Examen de admisión a doctorado: $850.00\\n\\nInscripciones a Licenciatura\\n\\nIngreso al semestre de nivelación (cero): $3,200.00\\n\\nInscripción de nuevo ingreso: $4,200.00\\n\\n● Reingreso: $4,200.00\\n\\nIngreso a distancia: $3,400.00\\n\\nInscripciones a Posgrado\\n\\n● Nuevo ingreso/Reingreso a maestría: $4,900.00\\n\\n● Nuevo ingreso/Reingreso a doctorado: $5,800.00\\n\\n● Examen de grado: $4,000.00\\n\\nPlanes de Estudio\\n\\n● Licenciatura a distancia: Disponible en el apartado de oferta educativa aquí\\n\\n● Nivel licenciatura: Disponible en el apartado de oferta educativa aquí\\n\\n● Nivel posgrado: Disponible en el apartado de oferta educativa aquí\\n\\nInformación sobre Estudios\\n\\n● Consulta la oferta educativa en el menú superior de la web del Tecnológico.\\n\\nUbicación\\n\\n● Nuestra ubicación es la siguiente: Ver en Google Maps\\n\\n● Dirección: Boulevard Revolución y Avenida Instituto Tecnológico de la Laguna, sin número.\\n\\n● Código Postal: 27000, Torreón, Coahuila.Ingreso a Licenciatura y Posgrado\\n\\n● Enero-Junio:\\n\\nIngreso a licenciatura\\n\\nIngreso a posgrado\\n\\n● Agosto-Diciembre:\\n\\n○ Nivelación\\n\\nIngreso a licenciatura\\n\\nIngreso a posgrado\\n\\nIngreso a distancia: Más información\\n\\nCorreos Electrónicos\\n\\n● Encuentre diversos correos de departamentos y coordinadores en este documento\\n\\nCursos y Convocatorias\\n\\n● Calendario de cursos externos\\n\\n● Convocatorias\\n\\nIdiomas y Actividades Complementarias\\n\\nIdiomas disponibles\\n\\n● Actividades extraescolares\\n\\nCalendario de Actividades\\n\\n● Consulte el calendario del semestre actual aquí\\n\\nCredenciales\\n\\n● Resello de credencial: Se realiza en el edificio de Servicios Escolares, más información aquí\\n\\n● Reposición de credencial: Se lleva a cabo en el Centro de Cómputo, también es necesario enviar un correo a soporte@correo.itlalaguna.edu.mx\\n\\n● Nueva credencial: Se tramita enviando un correo a soporte@correo.itlalaguna.edu.mx\\n\\nHorario de Clases\\n\\n● Los horarios abarcan de 7 AM a 8 PM, cada estudiante crea su horario según la carga de materias y horarios disponibles.\\n\\n● Puede consultar un ejemplo de horarios de materias aquí\\n    Question: certificados?\\n    '}] Based on the context provided, 'Certificados' refer to various types of certificates that can be obtained from the institution. The costs for different types of certificates are specified in the context. Here are the details:\n",
      "\n",
      "1. Certificado de terminación y duplicados: $1,000.00\n",
      "2. Certificado parcial: $750.00\n",
      "3. Constancia de estudios: $50.00\n",
      "4. Certificado de título: $70.00\n",
      "5. Certificado parcial de titulación: $1,200.00\n",
      "6. Certificado completo de titulación: $3,500.00\n",
      "7. Certificado de título en caso de pérdida: $2,500.00\n",
      "\n",
      "The process to obtain these certificates involves paying the fee in cash within the institution's premises and presenting the receipt to the servicios escolares on Mondays, Wednesdays, or Fridays between 10 AM and 3 PM.\n"
     ]
    }
   ],
   "source": [
    "response = chain.invoke(\n",
    "    \"certificados?\"\n",
    ")\n",
    "\n",
    "print(response)"
   ]
  },
  {
   "cell_type": "code",
   "execution_count": 62,
   "metadata": {},
   "outputs": [
    {
     "name": "stderr",
     "output_type": "stream",
     "text": [
      "Number of requested results 4 is greater than number of elements in index 2, updating n_results = 2\n",
      "/Users/carlosrobertorochatrejo/Developer/projects/.venv/lib/python3.13/site-packages/huggingface_hub/utils/_deprecation.py:131: FutureWarning: 'post' (from 'huggingface_hub.inference._client') is deprecated and will be removed from version '0.31.0'. Making direct POST requests to the inference server is not supported anymore. Please use task methods instead (e.g. `InferenceClient.chat_completion`). If your use case is not supported, please open an issue in https://github.com/huggingface/huggingface_hub.\n",
      "  warnings.warn(warning_message, FutureWarning)\n"
     ]
    },
    {
     "name": "stdout",
     "output_type": "stream",
     "text": [
      "Response: Human: [{'type': 'text', 'text': '\\n    Answer the question based only on the following context, which can include text, tables, and images.\\n    Context: Apartados y Respuestas sobre Trámites\\n\\nCertificados\\n\\n● Certificado de terminación y duplicados: $1,000.00\\n\\n● Certificado parcial: $750.00\\n\\n● Proceso: Se debe pagar en caja dentro de las instalaciones del Tecnológico y el recibo se lleva a servicios escolares los lunes, miércoles o viernes de 10 AM a 3 PM.\\n\\nConstancias\\n\\n● Constancia con calificación: $70.00\\n\\n● Constancia por semestre: $70.00\\n\\n● Constancia de estudios: $50.00\\n\\n● Cárdex: $70.00\\n\\n● Constancia de título: $70.00\\n\\n● Recuperación de contraseña: $70.00\\n\\nCredenciales\\n\\n● Trámites disponibles:\\n\\n○ Extemporáneo: $70.00\\n\\n○ Duplicado de credencial: $100.00\\n\\n○ Credencial de biblioteca: $40.00\\n\\n○ Resello extemporáneo: $70.00\\n\\nCambio de Carrera\\n\\n● Revisión de equivalencia: $750.00\\n\\n● Convalidación: $500.00\\n\\n● Solicitud de cambio de carrera: $800.00\\n\\n● Más información: Puede contactar a su coordinador a través de estos correos.\\n\\nTitulación\\n\\n● Donación de libro de titulación: $1,200.00\\n\\n● Protocolo de titulación: $3,500.00\\n\\n● Certificación de título en caso de pérdida: $2,500.00\\n\\nExámenes\\n\\n● Examen especial: $950.00\\n\\n● Examen de inglés: $400.00\\n\\n● Examen de admisión a licenciatura: $800.00\\n\\n● Examen de admisión a maestría: $850.00\\n\\n● Examen de admisión a doctorado: $850.00\\n\\nInscripciones a Licenciatura\\n\\nIngreso al semestre de nivelación (cero): $3,200.00\\n\\nInscripción de nuevo ingreso: $4,200.00\\n\\n● Reingreso: $4,200.00\\n\\nIngreso a distancia: $3,400.00\\n\\nInscripciones a Posgrado\\n\\n● Nuevo ingreso/Reingreso a maestría: $4,900.00\\n\\n● Nuevo ingreso/Reingreso a doctorado: $5,800.00\\n\\n● Examen de grado: $4,000.00\\n\\nPlanes de Estudio\\n\\n● Licenciatura a distancia: Disponible en el apartado de oferta educativa aquí\\n\\n● Nivel licenciatura: Disponible en el apartado de oferta educativa aquí\\n\\n● Nivel posgrado: Disponible en el apartado de oferta educativa aquí\\n\\nInformación sobre Estudios\\n\\n● Consulta la oferta educativa en el menú superior de la web del Tecnológico.\\n\\nUbicación\\n\\n● Nuestra ubicación es la siguiente: Ver en Google Maps\\n\\n● Dirección: Boulevard Revolución y Avenida Instituto Tecnológico de la Laguna, sin número.\\n\\n● Código Postal: 27000, Torreón, Coahuila.Ingreso a Licenciatura y Posgrado\\n\\n● Enero-Junio:\\n\\nIngreso a licenciatura\\n\\nIngreso a posgrado\\n\\n● Agosto-Diciembre:\\n\\n○ Nivelación\\n\\nIngreso a licenciatura\\n\\nIngreso a posgrado\\n\\nIngreso a distancia: Más información\\n\\nCorreos Electrónicos\\n\\n● Encuentre diversos correos de departamentos y coordinadores en este documento\\n\\nCursos y Convocatorias\\n\\n● Calendario de cursos externos\\n\\n● Convocatorias\\n\\nIdiomas y Actividades Complementarias\\n\\nIdiomas disponibles\\n\\n● Actividades extraescolares\\n\\nCalendario de Actividades\\n\\n● Consulte el calendario del semestre actual aquí\\n\\nCredenciales\\n\\n● Resello de credencial: Se realiza en el edificio de Servicios Escolares, más información aquí\\n\\n● Reposición de credencial: Se lleva a cabo en el Centro de Cómputo, también es necesario enviar un correo a soporte@correo.itlalaguna.edu.mx\\n\\n● Nueva credencial: Se tramita enviando un correo a soporte@correo.itlalaguna.edu.mx\\n\\nHorario de Clases\\n\\n● Los horarios abarcan de 7 AM a 8 PM, cada estudiante crea su horario según la carga de materias y horarios disponibles.\\n\\n● Puede consultar un ejemplo de horarios de materias aquí\\n    Question: Cuales son los certificados?\\n    '}] The certificates mentioned in the context are:\n",
      "\n",
      "1. Certificado de terminación y duplicados: $1,000.00\n",
      "2. Certificado parcial: $750.00\n",
      "3. Certificado con calificación: $70.00\n",
      "4. Constancia de estudios: $50.00\n",
      "5. Certificado de título: $70.00\n",
      "6. Certificado de título en caso de pérdida: $2,500.00\n",
      "7. Certificado de examen especial: $950.00\n",
      "8. Certificado de examen de inglés: $400.00\n",
      "9. Certificado de examen de admisión a licenciatura: $800.00\n",
      "10. Certificado de examen de admisión a maestría: $850.00\n",
      "11. Certificado de examen de admisión a doctorado: $850.00\n",
      "12. Certificado de donación de libro de titulación: $1,200.00\n",
      "13. Certificado de protocolo de titulación: $3,500.00\n",
      "14. Certificado de proceso (not clear)\n",
      "15. Certificado extemporáneo: $70.00\n",
      "16. Certificado de duplicado de credencial: $100.00\n",
      "17. Certificado de credencial de biblioteca: $40.00\n",
      "18. Certificado de resello extemporáneo: $70.00\n",
      "19. Certificado de revisión de equivalencia: $750.00\n",
      "20. Certificado de convalidación: $500.00\n",
      "21. Certificado de solicitud de cambio de carrera: $800.00\n",
      "22. Certificado de certificación de título en caso de pérdida: $2,500.00\n",
      "\n",
      "Please note that some certificates have the same name but different costs, so it's essential to check the context for clarification.\n",
      "\n",
      "\n",
      "Context:\n",
      "Apartados y Respuestas sobre Trámites\n",
      "\n",
      "Certificados\n",
      "\n",
      "● Certificado de terminación y duplicados: $1,000.00\n",
      "\n",
      "● Certificado parcial: $750.00\n",
      "\n",
      "● Proceso: Se debe pagar en caja dentro de las instalaciones del Tecnológico y el recibo se lleva a servicios escolares los lunes, miércoles o viernes de 10 AM a 3 PM.\n",
      "\n",
      "Constancias\n",
      "\n",
      "● Constancia con calificación: $70.00\n",
      "\n",
      "● Constancia por semestre: $70.00\n",
      "\n",
      "● Constancia de estudios: $50.00\n",
      "\n",
      "● Cárdex: $70.00\n",
      "\n",
      "● Constancia de título: $70.00\n",
      "\n",
      "● Recuperación de contraseña: $70.00\n",
      "\n",
      "Credenciales\n",
      "\n",
      "● Trámites disponibles:\n",
      "\n",
      "○ Extemporáneo: $70.00\n",
      "\n",
      "○ Duplicado de credencial: $100.00\n",
      "\n",
      "○ Credencial de biblioteca: $40.00\n",
      "\n",
      "○ Resello extemporáneo: $70.00\n",
      "\n",
      "Cambio de Carrera\n",
      "\n",
      "● Revisión de equivalencia: $750.00\n",
      "\n",
      "● Convalidación: $500.00\n",
      "\n",
      "● Solicitud de cambio de carrera: $800.00\n",
      "\n",
      "● Más información: Puede contactar a su coordinador a través de estos correos.\n",
      "\n",
      "Titulación\n",
      "\n",
      "● Donación de libro de titulación: $1,200.00\n",
      "\n",
      "● Protocolo de titulación: $3,500.00\n",
      "\n",
      "● Certificación de título en caso de pérdida: $2,500.00\n",
      "\n",
      "Exámenes\n",
      "\n",
      "● Examen especial: $950.00\n",
      "\n",
      "● Examen de inglés: $400.00\n",
      "\n",
      "● Examen de admisión a licenciatura: $800.00\n",
      "\n",
      "● Examen de admisión a maestría: $850.00\n",
      "\n",
      "● Examen de admisión a doctorado: $850.00\n",
      "\n",
      "Inscripciones a Licenciatura\n",
      "\n",
      "Ingreso al semestre de nivelación (cero): $3,200.00\n",
      "\n",
      "Inscripción de nuevo ingreso: $4,200.00\n",
      "\n",
      "● Reingreso: $4,200.00\n",
      "\n",
      "Ingreso a distancia: $3,400.00\n",
      "\n",
      "Inscripciones a Posgrado\n",
      "\n",
      "● Nuevo ingreso/Reingreso a maestría: $4,900.00\n",
      "\n",
      "● Nuevo ingreso/Reingreso a doctorado: $5,800.00\n",
      "\n",
      "● Examen de grado: $4,000.00\n",
      "\n",
      "Planes de Estudio\n",
      "\n",
      "● Licenciatura a distancia: Disponible en el apartado de oferta educativa aquí\n",
      "\n",
      "● Nivel licenciatura: Disponible en el apartado de oferta educativa aquí\n",
      "\n",
      "● Nivel posgrado: Disponible en el apartado de oferta educativa aquí\n",
      "\n",
      "Información sobre Estudios\n",
      "\n",
      "● Consulta la oferta educativa en el menú superior de la web del Tecnológico.\n",
      "\n",
      "Ubicación\n",
      "\n",
      "● Nuestra ubicación es la siguiente: Ver en Google Maps\n",
      "\n",
      "● Dirección: Boulevard Revolución y Avenida Instituto Tecnológico de la Laguna, sin número.\n",
      "\n",
      "● Código Postal: 27000, Torreón, Coahuila.\n",
      "Page number:  1\n",
      "\n",
      "--------------------------------------------------\n",
      "\n",
      "Ingreso a Licenciatura y Posgrado\n",
      "\n",
      "● Enero-Junio:\n",
      "\n",
      "Ingreso a licenciatura\n",
      "\n",
      "Ingreso a posgrado\n",
      "\n",
      "● Agosto-Diciembre:\n",
      "\n",
      "○ Nivelación\n",
      "\n",
      "Ingreso a licenciatura\n",
      "\n",
      "Ingreso a posgrado\n",
      "\n",
      "Ingreso a distancia: Más información\n",
      "\n",
      "Correos Electrónicos\n",
      "\n",
      "● Encuentre diversos correos de departamentos y coordinadores en este documento\n",
      "\n",
      "Cursos y Convocatorias\n",
      "\n",
      "● Calendario de cursos externos\n",
      "\n",
      "● Convocatorias\n",
      "\n",
      "Idiomas y Actividades Complementarias\n",
      "\n",
      "Idiomas disponibles\n",
      "\n",
      "● Actividades extraescolares\n",
      "\n",
      "Calendario de Actividades\n",
      "\n",
      "● Consulte el calendario del semestre actual aquí\n",
      "\n",
      "Credenciales\n",
      "\n",
      "● Resello de credencial: Se realiza en el edificio de Servicios Escolares, más información aquí\n",
      "\n",
      "● Reposición de credencial: Se lleva a cabo en el Centro de Cómputo, también es necesario enviar un correo a soporte@correo.itlalaguna.edu.mx\n",
      "\n",
      "● Nueva credencial: Se tramita enviando un correo a soporte@correo.itlalaguna.edu.mx\n",
      "\n",
      "Horario de Clases\n",
      "\n",
      "● Los horarios abarcan de 7 AM a 8 PM, cada estudiante crea su horario según la carga de materias y horarios disponibles.\n",
      "\n",
      "● Puede consultar un ejemplo de horarios de materias aquí\n",
      "Page number:  2\n",
      "\n",
      "--------------------------------------------------\n",
      "\n"
     ]
    }
   ],
   "source": [
    "response = chain_with_sources.invoke(\n",
    "    \"Cuales son los certificados?\"\n",
    ")\n",
    "\n",
    "print(\"Response:\", response['response'])\n",
    "\n",
    "print(\"\\n\\nContext:\")\n",
    "for text in response['context']['texts']:\n",
    "    print(text.text)\n",
    "    print(\"Page number: \", text.metadata.page_number)\n",
    "    print(\"\\n\" + \"-\"*50 + \"\\n\")\n",
    "for image in response['context']['images']:\n",
    "    display_base64_image(image)"
   ]
  }
 ],
 "metadata": {
  "kernelspec": {
   "display_name": ".venv",
   "language": "python",
   "name": "python3"
  },
  "language_info": {
   "codemirror_mode": {
    "name": "ipython",
    "version": 3
   },
   "file_extension": ".py",
   "mimetype": "text/x-python",
   "name": "python",
   "nbconvert_exporter": "python",
   "pygments_lexer": "ipython3",
   "version": "3.13.1"
  }
 },
 "nbformat": 4,
 "nbformat_minor": 2
}
